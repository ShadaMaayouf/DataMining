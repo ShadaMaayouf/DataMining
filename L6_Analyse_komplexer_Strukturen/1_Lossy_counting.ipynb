{
 "cells": [
  {
   "cell_type": "code",
   "id": "initial_id",
   "metadata": {
    "ExecuteTime": {
     "end_time": "2024-12-31T21:44:48.251891Z",
     "start_time": "2024-12-31T21:44:43.331661Z"
    }
   },
   "source": [
    "import pandas as pd\n",
    "import numpy as np\n",
    "import math"
   ],
   "outputs": [],
   "execution_count": 1
  },
  {
   "cell_type": "code",
   "execution_count": 12,
   "id": "2cf50059-5218-4890-abfb-ca5124bd163f",
   "metadata": {},
   "outputs": [],
   "source": [
    "# Initialization\n",
    "epsilon = 0.2\n",
    "min_support = 0.4\n",
    "w = math.ceil(1 / epsilon)\n",
    "\n",
    "H = {}\n",
    "bcurrent = 1\n",
    "N = 0"
   ]
  },
  {
   "cell_type": "code",
   "execution_count": 20,
   "id": "6cc07213-1611-48a5-928d-10b066921f4f",
   "metadata": {},
   "outputs": [],
   "source": [
    "# Main processing loop\n",
    "stream = ['a', 'b', 'a', 'c', 'a', 'b', 'a', 'd', 'e', 'a', 'b', 'a', 'c', 'a', 'b', 'a', 'd', 'e']  # Example stream"
   ]
  },
  {
   "cell_type": "code",
   "execution_count": 13,
   "id": "75f38366-7eb1-4cea-81d1-f47dbfb00b15",
   "metadata": {},
   "outputs": [],
   "source": [
    "# Main processing loop\n",
    "stream = ['b', 'g', 's', 's', 'm', 'a', 'g', 'g', 's', 'b', 'm', 'm', 's', 's', 'g', 'a', 'g', 'g', 's','a','m','g', 'g', 's']  # Example stream"
   ]
  },
  {
   "cell_type": "code",
   "execution_count": 21,
   "id": "4eb7112a-66fe-456d-b5f2-f61a4cd47a63",
   "metadata": {},
   "outputs": [],
   "source": [
    "# Main processing loop\n",
    "stream = ['1', '2', '4', '3', '4', '3', '4', '5', '4', '6', '7', '3', '3', '6', '1', '1', '2', '2', '4', '7']  # Example stream"
   ]
  },
  {
   "cell_type": "code",
   "execution_count": 14,
   "id": "58b239f0-5ff6-452d-8e67-5e5e1b70791e",
   "metadata": {},
   "outputs": [
    {
     "name": "stdout",
     "output_type": "stream",
     "text": [
      "Bucket 1: {'s': [2, 0]}, Removed: ['b', 'g', 'm']\n",
      "Bucket 2: {'s': [3, 0], 'g': [2, 1]}, Removed: ['a', 'b']\n",
      "Bucket 3: {'s': [5, 0], 'g': [3, 1], 'm': [2, 2]}, Removed: []\n",
      "Bucket 4: {'s': [6, 0], 'g': [5, 1], 'a': [2, 3]}, Removed: ['m']\n"
     ]
    }
   ],
   "source": [
    "def process_item(H, item, b):\n",
    "    if item in H:\n",
    "        H[item][0] += 1\n",
    "    else:\n",
    "        H[item] = [1, b - 1]\n",
    "\n",
    "def remove_infrequent_items(H, b):\n",
    "    to_remove = [item for item, (hi, delta) in H.items() if hi + delta <= b]\n",
    "    for item in to_remove:\n",
    "        del H[item]\n",
    "    return to_remove\n",
    "\n",
    "def get_frequent_items(H, min_support, epsilon, N):\n",
    "    #print(N)\n",
    "    return {item: hi for item, (hi, delta) in H.items() if hi >= (min_support - epsilon) * N}\n",
    "\n",
    "# Hauptverarbeitungsschleife\n",
    "for x in stream:\n",
    "    N += 1\n",
    "    process_item(H, x, bcurrent)\n",
    "    #print(N % w)\n",
    "\n",
    "    if N % w == 0:\n",
    "        removed_items = remove_infrequent_items(H, bcurrent)\n",
    "        print(f\"Bucket {bcurrent}: {H}, Removed: {removed_items}\")\n",
    "        bcurrent += 1\n"
   ]
  },
  {
   "cell_type": "code",
   "execution_count": 16,
   "id": "f75230fa-0f8c-43ac-b508-b9e192b4975f",
   "metadata": {},
   "outputs": [
    {
     "name": "stdout",
     "output_type": "stream",
     "text": [
      "Frequent Items: {'s': 7, 'g': 7}\n"
     ]
    }
   ],
   "source": [
    "# Ausgabephase\n",
    "frequent_items = get_frequent_items(H, min_support, epsilon, N)\n",
    "print(\"Frequent Items:\", frequent_items)"
   ]
  },
  {
   "cell_type": "code",
   "execution_count": null,
   "id": "a9b94226-424a-4944-a6ef-7ba73794ac77",
   "metadata": {},
   "outputs": [],
   "source": []
  }
 ],
 "metadata": {
  "kernelspec": {
   "display_name": "Python 3 (ipykernel)",
   "language": "python",
   "name": "python3"
  },
  "language_info": {
   "codemirror_mode": {
    "name": "ipython",
    "version": 3
   },
   "file_extension": ".py",
   "mimetype": "text/x-python",
   "name": "python",
   "nbconvert_exporter": "python",
   "pygments_lexer": "ipython3",
   "version": "3.12.4"
  }
 },
 "nbformat": 4,
 "nbformat_minor": 5
}
