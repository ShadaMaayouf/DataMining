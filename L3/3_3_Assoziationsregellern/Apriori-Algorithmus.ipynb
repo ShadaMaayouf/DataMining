{
 "cells": [
  {
   "cell_type": "markdown",
   "id": "46d3590e-a7fd-4128-8fc7-de2f89d23097",
   "metadata": {},
   "source": [
    "## Prep"
   ]
  },
  {
   "cell_type": "code",
   "execution_count": 1,
   "id": "3ca2f680-a7c1-4d07-86e3-e92403d8a1e0",
   "metadata": {},
   "outputs": [],
   "source": [
    "import pandas as pd\n",
    "import numpy as np\n",
    "import matplotlib.pyplot as plt\n",
    "import itertools"
   ]
  },
  {
   "cell_type": "code",
   "execution_count": 2,
   "id": "acde0d21-a071-4560-a38d-8e6d6f930ffa",
   "metadata": {},
   "outputs": [
    {
     "name": "stdout",
     "output_type": "stream",
     "text": [
      "   Milch  Käse  Butter  Brot  Kaffee  Zucker  Mehl\n",
      "0      1     1       1     1       0       1     1\n",
      "1      0     1       1     1       1       1     1\n",
      "2      1     0       1     0       1       1     1\n",
      "3      1     0       1     0       0       0     0\n",
      "4      1     0       1     0       1       0     0\n",
      "5      1     0       0     0       0       0     1\n",
      "6      1     1       1     1       1       1     1\n",
      "7      0     0       0     0       0       0     0\n",
      "8      1     1       1     0       0       1     0\n",
      "9      1     1       0     1       1       1     1\n"
     ]
    }
   ],
   "source": [
    "import pandas as pd\n",
    "\n",
    "# Erstellen des DataFrames\n",
    "F_supermarket = pd.DataFrame({\n",
    "    'Milch': [1, 0, 1, 1, 1, 1, 1, 0, 1, 1],\n",
    "    'Käse': [1, 1, 0, 0, 0, 0, 1, 0, 1, 1],\n",
    "    'Butter': [1, 1, 1, 1, 1, 0, 1, 0, 1, 0],\n",
    "    'Brot': [1, 1, 0, 0, 0, 0, 1, 0, 0, 1],\n",
    "    'Kaffee': [0, 1, 1, 0, 1, 0, 1, 0, 0, 1],\n",
    "    'Zucker': [1, 1, 1, 0, 0, 0, 1, 0, 1, 1],\n",
    "    'Mehl': [1, 1, 1, 0, 0, 1, 1, 0, 0, 1]\n",
    "})\n",
    "\n",
    "# Ausgabe des DataFrames\n",
    "print(F_supermarket)\n"
   ]
  },
  {
   "cell_type": "markdown",
   "id": "353d8628-b98b-4464-aaeb-6f08dddb3908",
   "metadata": {},
   "source": [
    "#### SupportF"
   ]
  },
  {
   "cell_type": "code",
   "execution_count": null,
   "id": "82083777-1a90-45db-995f-fb75f3117320",
   "metadata": {},
   "outputs": [],
   "source": [
    "def intersection_all_elements(lst):\n",
    "    result = (F_supermarket[lst[0]] == 1)\n",
    "    for i in range(1, len(lst)):\n",
    "        result &=  (F_supermarket[lst[i]] == 1)\n",
    "    return result\n",
    "\n",
    "def supportF_regel(list1, list2):\n",
    "    return intersection_all_elements(list1+list2).mean()\n",
    "\n",
    "def supportF(list1):\n",
    "    return supportF_regel(list1, [])\n",
    "\n",
    "a = supportF(['Zucker', 'Mehl'])\n",
    "b = supportF_regel(['Zucker', 'Mehl'], ['Butter'])"
   ]
  },
  {
   "cell_type": "code",
   "execution_count": 23,
   "id": "4f71cfeb-3d89-4947-b1eb-c6702cacab6f",
   "metadata": {},
   "outputs": [
    {
     "data": {
      "text/plain": [
       "0.5"
      ]
     },
     "execution_count": 23,
     "metadata": {},
     "output_type": "execute_result"
    }
   ],
   "source": [
    "a"
   ]
  },
  {
   "cell_type": "code",
   "execution_count": 24,
   "id": "0e5dcff1-15b4-4e98-a226-ef6c11339601",
   "metadata": {},
   "outputs": [
    {
     "data": {
      "text/plain": [
       "0.4"
      ]
     },
     "execution_count": 24,
     "metadata": {},
     "output_type": "execute_result"
    }
   ],
   "source": [
    "b"
   ]
  },
  {
   "cell_type": "markdown",
   "id": "59dd6e20-7047-4811-840f-b426902c0910",
   "metadata": {},
   "source": [
    "#### ConF"
   ]
  },
  {
   "cell_type": "code",
   "execution_count": 28,
   "id": "96678dda-f036-4060-bb11-3ad8eea5da44",
   "metadata": {},
   "outputs": [
    {
     "data": {
      "text/plain": [
       "1.0"
      ]
     },
     "execution_count": 28,
     "metadata": {},
     "output_type": "execute_result"
    }
   ],
   "source": [
    "def conF(list1, list2):\n",
    "    return supportF(list1+list2)/supportF(list1)\n",
    "\n",
    "conF(['Brot'], ['Käse'])"
   ]
  },
  {
   "cell_type": "markdown",
   "id": "648aa90f-ca40-494f-a865-8daee8646732",
   "metadata": {},
   "source": [
    "## Algorithmus"
   ]
  },
  {
   "cell_type": "markdown",
   "id": "14d31aca-b291-4d0b-9618-7c253f46d01c",
   "metadata": {},
   "source": [
    "### Teil 1"
   ]
  },
  {
   "cell_type": "code",
   "execution_count": 29,
   "id": "0633d4ea-3576-461b-a017-94a4b3730476",
   "metadata": {},
   "outputs": [],
   "source": [
    "minsupp = 2\n",
    "minconf = 0.9"
   ]
  },
  {
   "cell_type": "code",
   "execution_count": 11,
   "id": "72976ea2-9bfd-4334-b52e-1a82b60887f4",
   "metadata": {},
   "outputs": [],
   "source": [
    "def get_frequent_items(lst_of_combinations):\n",
    "    df = pd.DataFrame(columns = ['item', 'frequency'])\n",
    "    i = 0\n",
    "\n",
    "    if(isinstance(lst_of_combinations[0], list)):\n",
    "        for e in lst_of_combinations:\n",
    "            temp = supportF(e)\n",
    "            if temp >= 0.4:\n",
    "                df.loc[i,'item'] = e\n",
    "                df.loc[i,'frequency'] = temp\n",
    "                i+=1\n",
    "    else:\n",
    "        for e in lst_of_combinations:\n",
    "            temp = supportF([e])\n",
    "            if temp >= 0.4:\n",
    "                df.loc[i,'item'] = e\n",
    "                df.loc[i,'frequency'] = temp\n",
    "                i+=1\n",
    "    \n",
    "    \n",
    "    return df\n",
    "\n",
    "def combinations(lst, n):\n",
    "    if n>2:\n",
    "        # Flatten the list\n",
    "        flat_list = [item for sublist in lst for item in sublist]\n",
    "        \n",
    "        # Get all unique items\n",
    "        unique_items = list(set(flat_list))\n",
    "\n",
    "        list_of_tuples = list(itertools.combinations(unique_items, n))\n",
    "        # Generate all combinations of 3 items\n",
    "        return [list(tup) for tup in list_of_tuples] \n",
    "    else: \n",
    "        combinations = []\n",
    "        for i in range(len(lst)):\n",
    "            for j in range(i+1, len(lst)):\n",
    "            # Append each 2-element combination to the list\n",
    "                combinations.append([lst[i], lst[j]])\n",
    "        return combinations\n"
   ]
  },
  {
   "cell_type": "code",
   "execution_count": 13,
   "id": "b89feda4-702c-4b97-8d2c-895347f9ecc6",
   "metadata": {},
   "outputs": [
    {
     "data": {
      "text/html": [
       "<div>\n",
       "<style scoped>\n",
       "    .dataframe tbody tr th:only-of-type {\n",
       "        vertical-align: middle;\n",
       "    }\n",
       "\n",
       "    .dataframe tbody tr th {\n",
       "        vertical-align: top;\n",
       "    }\n",
       "\n",
       "    .dataframe thead th {\n",
       "        text-align: right;\n",
       "    }\n",
       "</style>\n",
       "<table border=\"1\" class=\"dataframe\">\n",
       "  <thead>\n",
       "    <tr style=\"text-align: right;\">\n",
       "      <th></th>\n",
       "      <th>item</th>\n",
       "      <th>frequency</th>\n",
       "    </tr>\n",
       "  </thead>\n",
       "  <tbody>\n",
       "    <tr>\n",
       "      <th>0</th>\n",
       "      <td>Eier</td>\n",
       "      <td>0.571429</td>\n",
       "    </tr>\n",
       "    <tr>\n",
       "      <th>1</th>\n",
       "      <td>Milch</td>\n",
       "      <td>0.428571</td>\n",
       "    </tr>\n",
       "    <tr>\n",
       "      <th>2</th>\n",
       "      <td>Blumenkohl</td>\n",
       "      <td>0.428571</td>\n",
       "    </tr>\n",
       "    <tr>\n",
       "      <th>3</th>\n",
       "      <td>Wirsing</td>\n",
       "      <td>0.714286</td>\n",
       "    </tr>\n",
       "    <tr>\n",
       "      <th>4</th>\n",
       "      <td>Zigaretten</td>\n",
       "      <td>0.571429</td>\n",
       "    </tr>\n",
       "  </tbody>\n",
       "</table>\n",
       "</div>"
      ],
      "text/plain": [
       "         item frequency\n",
       "0        Eier  0.571429\n",
       "1       Milch  0.428571\n",
       "2  Blumenkohl  0.428571\n",
       "3     Wirsing  0.714286\n",
       "4  Zigaretten  0.571429"
      ]
     },
     "execution_count": 13,
     "metadata": {},
     "output_type": "execute_result"
    }
   ],
   "source": [
    "df_1_item = get_frequent_items(F_supermarket.columns)\n",
    "df_1_item"
   ]
  },
  {
   "cell_type": "code",
   "execution_count": 14,
   "id": "2bae8f2f-197a-4c0b-a024-e47ac41651b8",
   "metadata": {},
   "outputs": [
    {
     "data": {
      "text/html": [
       "<div>\n",
       "<style scoped>\n",
       "    .dataframe tbody tr th:only-of-type {\n",
       "        vertical-align: middle;\n",
       "    }\n",
       "\n",
       "    .dataframe tbody tr th {\n",
       "        vertical-align: top;\n",
       "    }\n",
       "\n",
       "    .dataframe thead th {\n",
       "        text-align: right;\n",
       "    }\n",
       "</style>\n",
       "<table border=\"1\" class=\"dataframe\">\n",
       "  <thead>\n",
       "    <tr style=\"text-align: right;\">\n",
       "      <th></th>\n",
       "      <th>item</th>\n",
       "      <th>frequency</th>\n",
       "    </tr>\n",
       "  </thead>\n",
       "  <tbody>\n",
       "    <tr>\n",
       "      <th>0</th>\n",
       "      <td>[Wirsing, Zigaretten]</td>\n",
       "      <td>0.571429</td>\n",
       "    </tr>\n",
       "  </tbody>\n",
       "</table>\n",
       "</div>"
      ],
      "text/plain": [
       "                    item frequency\n",
       "0  [Wirsing, Zigaretten]  0.571429"
      ]
     },
     "execution_count": 14,
     "metadata": {},
     "output_type": "execute_result"
    }
   ],
   "source": [
    "combis = combinations(df_1_item['item'].tolist(), 2)\n",
    "\n",
    "df_2_item = get_frequent_items(combis)\n",
    "df_2_item"
   ]
  },
  {
   "cell_type": "code",
   "execution_count": 15,
   "id": "878c590a-da3c-412f-95f9-4aa1fe27a918",
   "metadata": {},
   "outputs": [
    {
     "ename": "IndexError",
     "evalue": "list index out of range",
     "output_type": "error",
     "traceback": [
      "\u001b[1;31m---------------------------------------------------------------------------\u001b[0m",
      "\u001b[1;31mIndexError\u001b[0m                                Traceback (most recent call last)",
      "Cell \u001b[1;32mIn[15], line 2\u001b[0m\n\u001b[0;32m      1\u001b[0m combis \u001b[38;5;241m=\u001b[39m combinations(df_2_item[\u001b[38;5;124m'\u001b[39m\u001b[38;5;124mitem\u001b[39m\u001b[38;5;124m'\u001b[39m]\u001b[38;5;241m.\u001b[39mtolist(), \u001b[38;5;241m3\u001b[39m)\n\u001b[1;32m----> 2\u001b[0m df_3_item \u001b[38;5;241m=\u001b[39m \u001b[43mget_frequent_items\u001b[49m\u001b[43m(\u001b[49m\u001b[43mcombis\u001b[49m\u001b[43m)\u001b[49m\n\u001b[0;32m      3\u001b[0m df_3_item\n",
      "Cell \u001b[1;32mIn[11], line 5\u001b[0m, in \u001b[0;36mget_frequent_items\u001b[1;34m(lst_of_combinations)\u001b[0m\n\u001b[0;32m      2\u001b[0m df \u001b[38;5;241m=\u001b[39m pd\u001b[38;5;241m.\u001b[39mDataFrame(columns \u001b[38;5;241m=\u001b[39m [\u001b[38;5;124m'\u001b[39m\u001b[38;5;124mitem\u001b[39m\u001b[38;5;124m'\u001b[39m, \u001b[38;5;124m'\u001b[39m\u001b[38;5;124mfrequency\u001b[39m\u001b[38;5;124m'\u001b[39m])\n\u001b[0;32m      3\u001b[0m i \u001b[38;5;241m=\u001b[39m \u001b[38;5;241m0\u001b[39m\n\u001b[1;32m----> 5\u001b[0m \u001b[38;5;28;01mif\u001b[39;00m(\u001b[38;5;28misinstance\u001b[39m(\u001b[43mlst_of_combinations\u001b[49m\u001b[43m[\u001b[49m\u001b[38;5;241;43m0\u001b[39;49m\u001b[43m]\u001b[49m, \u001b[38;5;28mlist\u001b[39m)):\n\u001b[0;32m      6\u001b[0m     \u001b[38;5;28;01mfor\u001b[39;00m e \u001b[38;5;129;01min\u001b[39;00m lst_of_combinations:\n\u001b[0;32m      7\u001b[0m         temp \u001b[38;5;241m=\u001b[39m supportF(e)\n",
      "\u001b[1;31mIndexError\u001b[0m: list index out of range"
     ]
    }
   ],
   "source": [
    "combis = combinations(df_2_item['item'].tolist(), 3)\n",
    "df_3_item = get_frequent_items(combis)\n",
    "df_3_item"
   ]
  },
  {
   "cell_type": "code",
   "execution_count": 16,
   "id": "16d4d35f-a162-4b2d-bc9e-de29242639e8",
   "metadata": {},
   "outputs": [
    {
     "ename": "IndexError",
     "evalue": "list index out of range",
     "output_type": "error",
     "traceback": [
      "\u001b[1;31m---------------------------------------------------------------------------\u001b[0m",
      "\u001b[1;31mIndexError\u001b[0m                                Traceback (most recent call last)",
      "Cell \u001b[1;32mIn[16], line 2\u001b[0m\n\u001b[0;32m      1\u001b[0m combis \u001b[38;5;241m=\u001b[39m combinations(df_2_item[\u001b[38;5;124m'\u001b[39m\u001b[38;5;124mitem\u001b[39m\u001b[38;5;124m'\u001b[39m]\u001b[38;5;241m.\u001b[39mtolist(), \u001b[38;5;241m4\u001b[39m)\n\u001b[1;32m----> 2\u001b[0m df_4_item \u001b[38;5;241m=\u001b[39m \u001b[43mget_frequent_items\u001b[49m\u001b[43m(\u001b[49m\u001b[43mcombis\u001b[49m\u001b[43m)\u001b[49m\n\u001b[0;32m      3\u001b[0m df_4_item\n",
      "Cell \u001b[1;32mIn[11], line 5\u001b[0m, in \u001b[0;36mget_frequent_items\u001b[1;34m(lst_of_combinations)\u001b[0m\n\u001b[0;32m      2\u001b[0m df \u001b[38;5;241m=\u001b[39m pd\u001b[38;5;241m.\u001b[39mDataFrame(columns \u001b[38;5;241m=\u001b[39m [\u001b[38;5;124m'\u001b[39m\u001b[38;5;124mitem\u001b[39m\u001b[38;5;124m'\u001b[39m, \u001b[38;5;124m'\u001b[39m\u001b[38;5;124mfrequency\u001b[39m\u001b[38;5;124m'\u001b[39m])\n\u001b[0;32m      3\u001b[0m i \u001b[38;5;241m=\u001b[39m \u001b[38;5;241m0\u001b[39m\n\u001b[1;32m----> 5\u001b[0m \u001b[38;5;28;01mif\u001b[39;00m(\u001b[38;5;28misinstance\u001b[39m(\u001b[43mlst_of_combinations\u001b[49m\u001b[43m[\u001b[49m\u001b[38;5;241;43m0\u001b[39;49m\u001b[43m]\u001b[49m, \u001b[38;5;28mlist\u001b[39m)):\n\u001b[0;32m      6\u001b[0m     \u001b[38;5;28;01mfor\u001b[39;00m e \u001b[38;5;129;01min\u001b[39;00m lst_of_combinations:\n\u001b[0;32m      7\u001b[0m         temp \u001b[38;5;241m=\u001b[39m supportF(e)\n",
      "\u001b[1;31mIndexError\u001b[0m: list index out of range"
     ]
    }
   ],
   "source": [
    "combis = combinations(df_2_item['item'].tolist(), 4)\n",
    "df_4_item = get_frequent_items(combis)\n",
    "df_4_item"
   ]
  },
  {
   "cell_type": "markdown",
   "id": "e7a02926-86fd-4fa6-a36a-853c5285788a",
   "metadata": {},
   "source": [
    "#### Power set:"
   ]
  },
  {
   "cell_type": "code",
   "execution_count": 17,
   "id": "b877f60d-8876-4453-8153-6bdacf484c15",
   "metadata": {},
   "outputs": [
    {
     "ename": "NameError",
     "evalue": "name 'df_4_item' is not defined",
     "output_type": "error",
     "traceback": [
      "\u001b[1;31m---------------------------------------------------------------------------\u001b[0m",
      "\u001b[1;31mNameError\u001b[0m                                 Traceback (most recent call last)",
      "Cell \u001b[1;32mIn[17], line 20\u001b[0m\n\u001b[0;32m     16\u001b[0m     \u001b[38;5;28;01mdel\u001b[39;00m lst[\u001b[38;5;241m-\u001b[39m\u001b[38;5;241m1\u001b[39m]\n\u001b[0;32m     17\u001b[0m     \u001b[38;5;28;01mreturn\u001b[39;00m lst\n\u001b[1;32m---> 20\u001b[0m X \u001b[38;5;241m=\u001b[39m \u001b[43mdf_4_item\u001b[49m[\u001b[38;5;124m'\u001b[39m\u001b[38;5;124mitem\u001b[39m\u001b[38;5;124m'\u001b[39m][\u001b[38;5;241m0\u001b[39m]\n\u001b[0;32m     21\u001b[0m powerset \u001b[38;5;241m=\u001b[39m power_set_reduced(X)\n\u001b[0;32m     22\u001b[0m powerset\u001b[38;5;241m.\u001b[39msort(key\u001b[38;5;241m=\u001b[39m\u001b[38;5;28mlen\u001b[39m)\n",
      "\u001b[1;31mNameError\u001b[0m: name 'df_4_item' is not defined"
     ]
    }
   ],
   "source": [
    "def power_set(input_set):\n",
    "    # Base case: an empty set has one subset, the empty set\n",
    "    if len(input_set) == 0:\n",
    "        return [[]]\n",
    "\n",
    "    # Recursive case:\n",
    "    # - take an element from the set\n",
    "    # - find all subsets of the set without this element\n",
    "    # - the power set is the set of subsets without this element plus the set of subsets with this element\n",
    "    subsets = power_set(input_set[1:])\n",
    "    return subsets + [[input_set[0]] + subset for subset in subsets]\n",
    "\n",
    "def power_set_reduced(my_set):\n",
    "    lst = power_set(my_set)\n",
    "    del lst[0]\n",
    "    del lst[-1]\n",
    "    return lst\n",
    "\n",
    "\n",
    "X = df_4_item['item'][0]\n",
    "powerset = power_set_reduced(X)\n",
    "powerset.sort(key=len)\n",
    "\n",
    "print(\"X: \",X)\n",
    "print(\"powerset: \",powerset)"
   ]
  },
  {
   "cell_type": "markdown",
   "id": "8aa47e09-9ca4-4d70-a157-5e8c40635d22",
   "metadata": {},
   "source": [
    "### Teil 2"
   ]
  },
  {
   "cell_type": "code",
   "execution_count": 18,
   "id": "0b4d4589-6f91-4c3d-9438-b96aed0c812d",
   "metadata": {},
   "outputs": [
    {
     "ename": "NameError",
     "evalue": "name 'X' is not defined",
     "output_type": "error",
     "traceback": [
      "\u001b[1;31m---------------------------------------------------------------------------\u001b[0m",
      "\u001b[1;31mNameError\u001b[0m                                 Traceback (most recent call last)",
      "Cell \u001b[1;32mIn[18], line 2\u001b[0m\n\u001b[0;32m      1\u001b[0m \u001b[38;5;66;03m# Convert X to a set for faster operations\u001b[39;00m\n\u001b[1;32m----> 2\u001b[0m X_set \u001b[38;5;241m=\u001b[39m \u001b[38;5;28mset\u001b[39m(\u001b[43mX\u001b[49m)\n\u001b[0;32m      4\u001b[0m \u001b[38;5;66;03m# Generate association rules\u001b[39;00m\n\u001b[0;32m      5\u001b[0m association_rules \u001b[38;5;241m=\u001b[39m []\n",
      "\u001b[1;31mNameError\u001b[0m: name 'X' is not defined"
     ]
    }
   ],
   "source": [
    "# Convert X to a set for faster operations\n",
    "X_set = set(X)\n",
    "\n",
    "# Generate association rules\n",
    "association_rules = []\n",
    "for p in powerset:\n",
    "    temp = conF(X, p)\n",
    "    if temp >= minconf:\n",
    "        association_rules.append((list(X_set - set(p)), p))\n",
    "\n",
    "# Print the association rules\n",
    "for rule in association_rules:\n",
    "    print(f\"{rule[0]} --> {rule[1]} = {conF(rule[0], rule[1])}\")\n",
    "    print()\n"
   ]
  },
  {
   "cell_type": "code",
   "execution_count": null,
   "id": "53828b5e-3568-4399-9b51-29300f9d84e3",
   "metadata": {},
   "outputs": [],
   "source": []
  }
 ],
 "metadata": {
  "kernelspec": {
   "display_name": "Python 3 (ipykernel)",
   "language": "python",
   "name": "python3"
  },
  "language_info": {
   "codemirror_mode": {
    "name": "ipython",
    "version": 3
   },
   "file_extension": ".py",
   "mimetype": "text/x-python",
   "name": "python",
   "nbconvert_exporter": "python",
   "pygments_lexer": "ipython3",
   "version": "3.12.4"
  }
 },
 "nbformat": 4,
 "nbformat_minor": 5
}
