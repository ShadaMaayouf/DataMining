{
 "cells": [
  {
   "cell_type": "markdown",
   "id": "aa9fc27e-aa2a-4f2e-8f44-2a752d6c35ef",
   "metadata": {
    "ExecuteTime": {
     "end_time": "2024-12-12T15:47:31.906895Z",
     "start_time": "2024-12-12T15:47:31.904214Z"
    },
    "collapsed": true,
    "jupyter": {
     "outputs_hidden": true
    }
   },
   "source": [
    "### Aufgabe 1\n",
    "Es seien p1,...,p15 Punkte im R2 mit den folgenden paarweisen Abständen:"
   ]
  },
  {
   "cell_type": "code",
   "execution_count": 1,
   "id": "4a40bf85-861e-449f-a985-c9bd4b1181c7",
   "metadata": {},
   "outputs": [],
   "source": [
    "import numpy as np\n",
    "import pandas as pd\n",
    "\n",
    "# Gegebene paarweise Abstände als Matrix\n",
    "distances = np.array([\n",
    "    [0.0, 2.8, 1.6, 7.2, 6.0, 8.1, 6.8, 3.0, 6.3, 4.6, 3.8, 7.9, 7.3, 10.1, 7.9],\n",
    "    [2.8, 0.0, 1.6, 5.0, 5.7, 8.5, 4.5, 1.8, 6.1, 2.7, 3.8, 5.5, 5.0, 9.9, 7.9],\n",
    "    [1.6, 1.6, 0.0, 6.5, 6.4, 8.9, 6.0, 1.5, 6.7, 4.0, 2.8, 7.1, 6.5, 10.6, 8.5],\n",
    "    [7.2, 5.0, 6.5, 0.0, 4.3, 7.1, 0.7, 6.7, 4.7, 2.5, 8.7, 1.1, 0.5, 7.2, 6.0],\n",
    "    [6.0, 5.7, 6.4, 4.3, 0.0, 3.0, 4.6, 7.4, 0.5, 3.6, 9.2, 5.4, 4.7, 4.2, 2.2],\n",
    "    [8.1, 8.5, 8.9, 7.1, 3.0, 0.0, 7.5, 10.1, 2.5, 6.7, 11.7, 8.1, 7.6, 2.5, 1.1],\n",
    "    [6.8, 4.5, 6.0, 0.7, 4.6, 7.5, 0.0, 6.1, 5.1, 2.2, 8.1, 1.1, 0.5, 7.8, 6.5],\n",
    "    [3.0, 1.8, 1.5, 6.7, 7.4, 10.1, 6.1, 0.0, 7.8, 4.5, 2.1, 7.0, 6.6, 11.7, 9.6],\n",
    "    [6.3, 6.1, 6.7, 4.7, 0.5, 2.5, 5.1, 7.8, 0.0, 4.1, 9.6, 5.9, 5.2, 3.9, 1.8],\n",
    "    [4.6, 2.7, 4.0, 2.5, 3.6, 6.7, 2.2, 4.5, 4.1, 0.0, 6.5, 3.4, 2.7, 7.6, 5.9],\n",
    "    [3.8, 3.8, 2.8, 8.7, 9.2, 11.7, 8.1, 2.1, 9.6, 6.5, 0.0, 9.1, 8.6, 13.5, 11.3],\n",
    "    [7.9, 5.5, 7.1, 1.1, 5.4, 8.1, 1.1, 7.0, 5.9, 3.4, 9.1, 0.0, 0.7, 8.1, 7.1],\n",
    "    [7.3, 5.0, 6.5, 0.5, 4.7, 7.6, 0.5, 6.6, 5.2, 2.7, 8.6, 0.7, 0.0, 7.6, 6.5],\n",
    "    [10.1, 9.9, 10.6, 7.2, 4.2, 2.5, 7.8, 11.7, 3.9, 7.6, 13.5, 8.1, 7.6, 0.0, 2.2],\n",
    "    [7.9, 7.9, 8.5, 6.0, 2.2, 1.1, 6.5, 9.6, 1.8, 5.9, 11.3, 7.1, 6.5, 2.2, 0.0]\n",
    "])\n",
    "\n",
    "# Anzahl der Punkte\n",
    "n_points = distances.shape[0]"
   ]
  },
  {
   "cell_type": "markdown",
   "id": "2b0b9bd6-23f3-4cc4-8d05-fa21c47e1872",
   "metadata": {},
   "source": [
    "(a) Bestimmen sie die Kerndistanzen aller Punkte für minPts=3."
   ]
  },
  {
   "cell_type": "code",
   "execution_count": 3,
   "id": "267b5093-290c-45b3-9068-3099f9c426b5",
   "metadata": {},
   "outputs": [
    {
     "data": {
      "text/plain": [
       "array([3. , 2.7, 1.6, 1.1, 3. , 2.5, 1.1, 2.1, 2.5, 2.7, 3.8, 1.1, 0.7,\n",
       "       3.9, 2.2])"
      ]
     },
     "execution_count": 3,
     "metadata": {},
     "output_type": "execute_result"
    }
   ],
   "source": [
    "# Kerndistanzen für minPts = 3 bestimmen\n",
    "minPts = 3\n",
    "\n",
    "# Sortiere die Abstände für jeden Punkt\n",
    "sorted_distances = np.sort(distances, axis=1)\n",
    "\n",
    "# Kerndistanz ist der minPts-1-kleinste Abstand (Index = minPts-1)\n",
    "core_distances = sorted_distances[:, minPts]\n",
    "\n",
    "core_distances"
   ]
  },
  {
   "cell_type": "markdown",
   "id": "16056b0b-aa30-4aae-a198-24a567e99797",
   "metadata": {},
   "source": [
    "(b) Es sei $\\epsilon = 2$. Bestimmen sie alle Kernobjekte."
   ]
  },
  {
   "cell_type": "code",
   "execution_count": 5,
   "id": "28d9e977-b433-4e77-ba0e-d37eff666987",
   "metadata": {},
   "outputs": [
    {
     "data": {
      "text/plain": [
       "array([False,  True,  True,  True, False, False,  True,  True,  True,\n",
       "       False, False,  True,  True, False,  True])"
      ]
     },
     "execution_count": 5,
     "metadata": {},
     "output_type": "execute_result"
    }
   ],
   "source": [
    "# Kernobjekte bestimmen für epsilon = 2\n",
    "epsilon = 2\n",
    "\n",
    "# Zähle die Anzahl der Punkte in der epsilon-Nachbarschaft für jeden Punkt\n",
    "neighbors_count = np.sum(distances <= epsilon, axis=1)\n",
    "\n",
    "# Kernobjekte sind Punkte mit mindestens minPts Nachbarn (einschließlich des Punktes selbst)\n",
    "core_objects = neighbors_count >= minPts\n",
    "\n",
    "# Liste der Kernobjekte (True für Kernobjekt, False sonst)\n",
    "core_objects\n"
   ]
  },
  {
   "cell_type": "markdown",
   "id": "6260e3bd-b565-4c6b-b967-32ec700bcf47",
   "metadata": {},
   "source": [
    "(c) Bestimmen Sie alle Rand- und Rauschobjekte."
   ]
  },
  {
   "cell_type": "code",
   "execution_count": 6,
   "id": "e4702f16-f55f-4604-96fd-5a98fa2b4973",
   "metadata": {},
   "outputs": [
    {
     "data": {
      "text/plain": [
       "(array([ True, False, False, False,  True,  True, False, False, False,\n",
       "        False, False, False, False, False, False]),\n",
       " array([False, False, False, False, False, False, False, False, False,\n",
       "         True,  True, False, False,  True, False]))"
      ]
     },
     "execution_count": 6,
     "metadata": {},
     "output_type": "execute_result"
    }
   ],
   "source": [
    "# Rand- und Rauschobjekte bestimmen\n",
    "\n",
    "# Randobjekte: Punkte in der epsilon-Nachbarschaft eines Kernobjekts, aber selbst keine Kernobjekte\n",
    "is_border_object = np.any((distances <= epsilon) & core_objects, axis=1) & ~core_objects\n",
    "\n",
    "# Rauschobjekte: Punkte, die weder Kernobjekte noch Randobjekte sind\n",
    "is_noise_object = ~core_objects & ~is_border_object\n",
    "\n",
    "# Ergebnisse\n",
    "border_objects = is_border_object\n",
    "noise_objects = is_noise_object\n",
    "\n",
    "border_objects, noise_objects"
   ]
  },
  {
   "cell_type": "markdown",
   "id": "39e8d669-3985-4634-a493-4a92806d9c57",
   "metadata": {},
   "source": [
    "(d) Bestimmen sie die Clusterzuordnung für $\\epsilon = 2$ und minPts=3."
   ]
  },
  {
   "cell_type": "code",
   "execution_count": null,
   "id": "37a32375-dbd2-4753-869c-07ebd01c51be",
   "metadata": {},
   "outputs": [],
   "source": [
    "from sklearn.cluster import DBSCAN\n",
    "\n",
    "# DBSCAN auf den Abstandsmetriken ausführen\n",
    "dbscan = DBSCAN(eps=epsilon, min_samples=minPts, metric=\"precomputed\")\n",
    "labels = dbscan.fit_predict(distances)\n",
    "\n",
    "# Clusterzuordnungen (Rauschpunkte haben das Label -1)\n",
    "labels\n",
    "\n"
   ]
  },
  {
   "cell_type": "markdown",
   "id": "87390cef-7fc8-4428-a88c-4551114c717d",
   "metadata": {},
   "source": [
    "(e) Berechnen Sie (basierend auf der in Aufgabenteil (d) ermittelten Zuordnung)\n",
    " den Silhouettenkoeffizienten für den Punkt p9."
   ]
  },
  {
   "cell_type": "code",
   "execution_count": null,
   "id": "629b9a22-1171-43b3-8c73-d62b48e54fe8",
   "metadata": {},
   "outputs": [],
   "source": [
    "# Clusterzugehörigkeit von p9\n",
    "cluster_of_p9 = labels[8]\n",
    "\n",
    "# Punkte im gleichen Cluster wie p9\n",
    "same_cluster = (labels == cluster_of_p9)\n",
    "\n",
    "# Punkte in anderen Clustern\n",
    "other_clusters = (labels != cluster_of_p9) & (labels != -1)\n",
    "\n",
    "# a(p9): Durchschnittliche Distanz innerhalb desselben Clusters\n",
    "intra_cluster_distances = distances[8, same_cluster]  # Distanzen zu Punkten im selben Cluster\n",
    "a_p9 = np.mean(intra_cluster_distances[intra_cluster_distances > 0])  # Mittelwert ohne den Punkt selbst\n",
    "\n",
    "# b(p9): Durchschnittliche Distanz zum nächstgelegenen anderen Cluster\n",
    "inter_cluster_distances = [\n",
    "    np.mean(distances[8, labels == cluster]) for cluster in set(labels) if cluster != cluster_of_p9 and cluster != -1\n",
    "]\n",
    "b_p9 = min(inter_cluster_distances) if inter_cluster_distances else float('inf')\n",
    "\n",
    "# Silhouettenkoeffizient berechnen\n",
    "silhouette_coefficient_p9 = (b_p9 - a_p9) / max(a_p9, b_p9)\n",
    "a_p9, b_p9, silhouette_coefficient_p9\n"
   ]
  },
  {
   "cell_type": "markdown",
   "id": "7ef762ea-09fa-4a3e-8c82-73215230261b",
   "metadata": {
    "ExecuteTime": {
     "end_time": "2024-12-12T15:47:31.906895Z",
     "start_time": "2024-12-12T15:47:31.904214Z"
    },
    "collapsed": true,
    "jupyter": {
     "outputs_hidden": true
    }
   },
   "source": [
    "### Aufgabe 2 Cluster-Repr¨ asentanten 10Punkte\n",
    "\n",
    "Im Rahmen des Verfahrens \\( k \\)-Means wird ein Cluster durch sein Zentrum repräsentiert, das i. A. nicht aus der ursprünglichen Datenmenge \\( D \\) stammt.  \n",
    "Bei \\( k \\)-Medoids dagegen ist der Repräsentant jedes Clusters ein Element aus \\( D \\).\n",
    "\n",
    "#### Antwort\n",
    "\n",
    "1. **Interpretierbarkeit und Verständlichkeit**\n",
    "- **Erläuterung**:  \n",
    "  Die Repräsentanten stammen aus der ursprünglichen Datenmenge \\( D \\), was sie für Menschen leichter interpretierbar macht. Solche Repräsentanten sind reale Datenpunkte und bieten konkrete Beispiele für die Eigenschaften eines Clusters.  \n",
    "  Dies ist besonders nützlich, um Ergebnisse der Clusteranalyse an Stakeholder zu kommunizieren, die möglicherweise mit den technischen Aspekten nicht vertraut sind.\n",
    "\n",
    "2. **Robustheit gegenüber Ausreißern**\n",
    "- **Erläuterung**:  \n",
    "  \\( k \\)-Medoids wählt tatsächliche Datenpunkte als Cluster-Repräsentanten, wodurch das Verfahren weniger empfindlich gegenüber Ausreißern ist. Anders als bei \\( k \\)-Means, wo Ausreißer die Zentren stark verschieben können, bleibt der Repräsentant bei \\( k \\)-Medoids stabil und repräsentiert typischerweise die Mehrheit der Daten im Cluster besser.\n",
    "\n"
   ]
  },
  {
   "cell_type": "markdown",
   "id": "ffff0703-9e2e-4475-a1cb-a9959621da33",
   "metadata": {},
   "source": [
    "### Aufgabe 3 Divisives Clustern\n",
    "\n",
    "Es sei $n \\in \\mathbb{N}$, $n \\geq 2$.  \n",
    "Zeigen Sie, dass es genau $2^{n-1} - 1$ verschiedene Möglichkeiten gibt, ein Cluster mit $n$ Elementen in zwei disjunkte nichtleere Teilcluster aufzuteilen.\n",
    "\n",
    "#### 1. **Grundidee**:\n",
    "Ein Cluster mit $n$ Elementen lässt sich in zwei disjunkte Teilcluster \\( A \\) und \\( B \\) aufteilen, wobei beide Teilcluster nicht leer sein dürfen.  \n",
    "Für jede Aufteilung gibt es eine eindeutige Zuordnung jedes Elements zu entweder \\( A \\) oder \\( B \\). Dies kann durch Binärentscheidungen beschrieben werden.\n",
    "\n",
    "---\n",
    "\n",
    "#### 2. **Gesamtanzahl von Zuordnungen**:\n",
    "- Jedes der \\( n \\) Elemente kann entweder in \\( A \\) oder \\( B \\) eingeordnet werden. Es gibt also insgesamt $2^n$ mögliche Zuordnungen.\n",
    "- Allerdings sind Aufteilungen, bei denen \\( A \\) oder \\( B \\) leer ist, unzulässig. Das bedeutet, es bleiben $2^n - 2$ mögliche Zuordnungen übrig (wir subtrahieren die beiden Fälle, in denen \\( A \\) leer ist oder \\( B \\) leer ist).\n",
    "\n",
    "---\n",
    "\n",
    "#### 3. **Symmetrische Aufteilungen eliminieren**:\n",
    "- Jede Aufteilung \\( (A, B) \\) ist symmetrisch zu \\( (B, A) \\). Das bedeutet, wir zählen jede Aufteilung doppelt.  \n",
    "- Um dies zu korrigieren, teilen wir die Anzahl der verbleibenden Zuordnungen durch 2:\n",
    "  $$\n",
    "  \\frac{2^n - 2}{2} = 2^{n-1} - 1\n",
    "  $$\n",
    "\n",
    "---\n",
    "\n",
    "#### 4. **Schlussfolgerung**:\n",
    "Es gibt genau $2^{n-1} - 1$ verschiedene Möglichkeiten, ein Cluster mit \\( n \\) Elementen in zwei disjunkte, nichtleere Teilcluster aufzuteilen.\n"
   ]
  },
  {
   "cell_type": "code",
   "execution_count": null,
   "id": "ce0eeb14-f9d0-465a-994f-ef3a4f95b264",
   "metadata": {},
   "outputs": [],
   "source": []
  }
 ],
 "metadata": {
  "kernelspec": {
   "display_name": "Python 3 (ipykernel)",
   "language": "python",
   "name": "python3"
  },
  "language_info": {
   "codemirror_mode": {
    "name": "ipython",
    "version": 3
   },
   "file_extension": ".py",
   "mimetype": "text/x-python",
   "name": "python",
   "nbconvert_exporter": "python",
   "pygments_lexer": "ipython3",
   "version": "3.12.4"
  }
 },
 "nbformat": 4,
 "nbformat_minor": 5
}
